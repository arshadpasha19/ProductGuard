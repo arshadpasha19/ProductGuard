{
 "cells": [
  {
   "cell_type": "code",
   "execution_count": 1,
   "id": "44b560a9",
   "metadata": {},
   "outputs": [],
   "source": [
    "import openai \n",
    "\n",
    "openai.api_key = \"Enter your OpenAI API\""
   ]
  },
  {
   "cell_type": "code",
   "execution_count": 2,
   "id": "371c3b51",
   "metadata": {},
   "outputs": [],
   "source": [
    "def get_chat_response(prompt):\n",
    "    completion = openai.ChatCompletion.create(\n",
    "        model=\"gpt-3.5-turbo\",\n",
    "        messages=[{\"role\": \"user\", \"content\": prompt}]\n",
    "    )\n",
    "    return completion.choices[0].message.content"
   ]
  },
  {
   "cell_type": "code",
   "execution_count": 3,
   "id": "630f2610",
   "metadata": {},
   "outputs": [
    {
     "name": "stdout",
     "output_type": "stream",
     "text": [
      "Welcome to the OpenAI ChatBot. Type 'exit' to end the conversation.\n",
      "You: hey\n",
      "ChatBot: Hello! How can I assist you today?\n",
      "You: exit\n",
      "ChatBot: Goodbye!\n"
     ]
    }
   ],
   "source": [
    "def main():\n",
    "    print(\"Welcome to the OpenAI ChatBot. Type 'exit' to end the conversation.\")\n",
    "    while True:\n",
    "        user_input = input(\"You: \")\n",
    "        if user_input.lower() == 'exit':\n",
    "            print(\"ChatBot: Goodbye!\")\n",
    "            break\n",
    "        response = get_chat_response(user_input)\n",
    "        print(\"ChatBot:\", response)\n",
    "\n",
    "if __name__ == \"__main__\":\n",
    "    main()\n"
   ]
  },
  {
   "cell_type": "code",
   "execution_count": null,
   "id": "63ddb87b",
   "metadata": {},
   "outputs": [],
   "source": [
    "\n",
    "\n"
   ]
  },
  {
   "cell_type": "code",
   "execution_count": null,
   "id": "f405af69",
   "metadata": {},
   "outputs": [],
   "source": []
  },
  {
   "cell_type": "code",
   "execution_count": 20,
   "id": "714ea617",
   "metadata": {},
   "outputs": [
    {
     "name": "stdout",
     "output_type": "stream",
     "text": [
      "Welcome to the Cosmetics ChatBot. Type 'exit' to end the conversation.\n",
      "You: hi\n",
      "Cosmetics ChatBot: The ingredient \"hi\" is not a commonly used term in cosmetics, so there may be some confusion in understanding its risks, cancer levels, allergies, and optimal usage. \n",
      "\n",
      "If you are referring to hyaluronic acid (HA), a common ingredient in skincare and cosmetics, here is some information:\n",
      "\n",
      "- Risks: Hyaluronic acid is generally considered safe for most people when used in skincare products. However, some individuals may experience mild irritation or allergic reactions to HA. It is always recommended to do a patch test before using a new product with HA.\n",
      "\n",
      "- Cancer levels: There is currently no evidence to suggest that hyaluronic acid in cosmetics is linked to cancer risk.\n",
      "\n",
      "- Allergies: Some individuals may be allergic to hyaluronic acid, especially if they have a known allergy to other skincare ingredients. Symptoms of an allergic reaction can include redness, itching, swelling, and rash. If you experience any of these symptoms, stop using the product immediately and consult a dermatologist.\n",
      "\n",
      "- Optimal usage: Hyaluronic acid is known for its ability to hydrate and plump the skin, making it a popular ingredient in moisturizers, serums, and other skincare products. It is best used as part of a daily skincare routine, applied to clean skin before other products. It can be used both in the morning and evening.\n",
      "\n",
      "Overall, hyaluronic acid is considered a safe and effective ingredient in cosmetics, but individual reactions may vary. It is always best to consult with a dermatologist if you have any concerns about using products containing HA.\n",
      "You: water\n",
      "Cosmetics ChatBot: Water is a common ingredient in cosmetics, used as a solvent, diluent, and/or as a base for emulsions. While water is generally considered safe for use in cosmetics, there are some risks associated with its use.\n",
      "\n",
      "One of the main risks of using water in cosmetics is microbial contamination. Water can serve as a breeding ground for bacteria, mold, and other microorganisms, which can pose a risk of infection or other adverse reactions when applied to the skin. To mitigate this risk, preservatives are often added to water-based cosmetics to prevent microbial growth.\n",
      "\n",
      "In terms of cancer risk, water itself is not a carcinogen. However, some water-based cosmetics may contain carcinogenic contaminants, such as heavy metals or volatile organic compounds, which can increase the risk of cancer with long-term use. It is important to choose cosmetics from reputable brands and to read ingredient labels carefully to avoid products with potentially harmful contaminants.\n",
      "\n",
      "Allergies to water itself are extremely rare, as water is a fundamental component of the human body and is generally well-tolerated by the skin. However, some individuals may have sensitivities to other ingredients in water-based cosmetics, such as fragrances, preservatives, or botanical extracts. It is important to patch test new products before applying them to larger areas of the skin to identify any potential allergic reactions.\n",
      "\n",
      "In terms of optimal usage, water-based cosmetics should be stored in a cool, dry place to prevent bacterial growth and spoilage. It is also important to avoid contaminating products by dipping fingers or brushes directly into containers, as this can introduce bacteria and other contaminants. Additionally, it is advisable to use water-based cosmetics within their expiry date to ensure their efficacy and safety.\n",
      "\n",
      "Overall, water is a common and generally safe ingredient in cosmetics, but it is important to be aware of the potential risks, cancer levels, allergies, and optimal usage practices to ensure the safety and efficacy of cosmetic products.\n",
      "You: exit\n",
      "Cosmetics ChatBot: Goodbye!\n"
     ]
    }
   ],
   "source": [
    "import openai \n",
    "\n",
    "# Set your OpenAI API key\n",
    "openai.api_key = \"\"\n",
    "\n",
    "def get_chat_response(prompt):\n",
    "    try:\n",
    "        completion = openai.ChatCompletion.create(\n",
    "            model=\"gpt-3.5-turbo\",\n",
    "            messages=[{\"role\": \"user\", \"content\": prompt}]\n",
    "        )\n",
    "        return completion.choices[0].message.content\n",
    "    except Exception as e:\n",
    "        print(\"Error:\", e)\n",
    "        return \"Apologies, I encountered an error and cannot provide a response at the moment.\"\n",
    "\n",
    "def main():\n",
    "    print(\"Welcome to the Cosmetics ChatBot. Type 'exit' to end the conversation.\")\n",
    "    while True:\n",
    "        user_input = input(\"You: \")\n",
    "        if user_input.lower() == 'exit':\n",
    "            print(\"Cosmetics ChatBot: Goodbye!\")\n",
    "            break\n",
    "        # Add specific prompts related to cosmetic ingredients\n",
    "        prompt = f\"Tell me about the risks, cancer levels, allergies, and optimal usage of {user_input} in cosmetics.\"\n",
    "        response = get_chat_response(prompt)  \n",
    "        print(\"Cosmetics ChatBot:\", response)\n",
    "\n",
    "if __name__ == \"__main__\":\n",
    "    main()"
   ]
  },
  {
   "cell_type": "code",
   "execution_count": null,
   "id": "b04419c8",
   "metadata": {},
   "outputs": [],
   "source": []
  }
 ],
 "metadata": {
  "kernelspec": {
   "display_name": "Python 3 (ipykernel)",
   "language": "python",
   "name": "python3"
  },
  "language_info": {
   "codemirror_mode": {
    "name": "ipython",
    "version": 3
   },
   "file_extension": ".py",
   "mimetype": "text/x-python",
   "name": "python",
   "nbconvert_exporter": "python",
   "pygments_lexer": "ipython3",
   "version": "3.10.4"
  }
 },
 "nbformat": 4,
 "nbformat_minor": 5
}
